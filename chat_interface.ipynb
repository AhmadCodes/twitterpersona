{
 "cells": [
  {
   "cell_type": "code",
   "execution_count": 1,
   "metadata": {},
   "outputs": [
    {
     "name": "stderr",
     "output_type": "stream",
     "text": [
      "/home/ahmad_ali/.local/lib/python3.10/site-packages/tqdm/auto.py:21: TqdmWarning: IProgress not found. Please update jupyter and ipywidgets. See https://ipywidgets.readthedocs.io/en/stable/user_install.html\n",
      "  from .autonotebook import tqdm as notebook_tqdm\n"
     ]
    }
   ],
   "source": [
    "try:\n",
    "    import gradio as gr\n",
    "except ImportError:\n",
    "    !pip install --upgrade gradio\n",
    "    import gradio as gr"
   ]
  },
  {
   "cell_type": "code",
   "execution_count": 2,
   "metadata": {},
   "outputs": [
    {
     "name": "stderr",
     "output_type": "stream",
     "text": [
      "2023-09-19 20:12:18,974\tINFO util.py:159 -- Missing packages: ['ipywidgets']. Run `pip install -U ipywidgets`, then restart the notebook server for rich notebook output.\n",
      "2023-09-19 20:12:19,125\tINFO util.py:159 -- Missing packages: ['ipywidgets']. Run `pip install -U ipywidgets`, then restart the notebook server for rich notebook output.\n"
     ]
    }
   ],
   "source": [
    "\n",
    "from twitter_persona.twitter_persona import ConversationBot"
   ]
  },
  {
   "cell_type": "code",
   "execution_count": 3,
   "metadata": {},
   "outputs": [
    {
     "name": "stderr",
     "output_type": "stream",
     "text": [
      "No sentence-transformers model found with name /home/ahmad_ali/.cache/torch/sentence_transformers/cambridgeltl_tweet-roberta-base-embeddings-v1. Creating a new one with MEAN pooling.\n",
      "/media/ahmad_ali/cache/miniconda3/envs/tw/lib/python3.10/site-packages/transformers/models/auto/configuration_auto.py:1006: FutureWarning: The `use_auth_token` argument is deprecated and will be removed in v5 of Transformers.\n",
      "  warnings.warn(\n",
      "/media/ahmad_ali/cache/miniconda3/envs/tw/lib/python3.10/site-packages/transformers/models/auto/tokenization_auto.py:640: FutureWarning: The `use_auth_token` argument is deprecated and will be removed in v5 of Transformers.\n",
      "  warnings.warn(\n",
      "/media/ahmad_ali/cache/miniconda3/envs/tw/lib/python3.10/site-packages/transformers/models/auto/auto_factory.py:479: FutureWarning: The `use_auth_token` argument is deprecated and will be removed in v5 of Transformers.\n",
      "  warnings.warn(\n",
      "Some weights of the model checkpoint at cardiffnlp/twitter-roberta-base-sentiment-latest were not used when initializing RobertaForSequenceClassification: ['roberta.pooler.dense.bias', 'roberta.pooler.dense.weight']\n",
      "- This IS expected if you are initializing RobertaForSequenceClassification from the checkpoint of a model trained on another task or with another architecture (e.g. initializing a BertForSequenceClassification model from a BertForPreTraining model).\n",
      "- This IS NOT expected if you are initializing RobertaForSequenceClassification from the checkpoint of a model that you expect to be exactly identical (initializing a BertForSequenceClassification model from a BertForSequenceClassification model).\n"
     ]
    }
   ],
   "source": [
    "elonbot = ConversationBot(\"elonmusk\")"
   ]
  },
  {
   "cell_type": "code",
   "execution_count": 4,
   "metadata": {},
   "outputs": [
    {
     "name": "stdout",
     "output_type": "stream",
     "text": [
      "Running on local URL:  http://127.0.0.1:7860\n",
      "\n",
      "To create a public link, set `share=True` in `launch()`.\n"
     ]
    },
    {
     "data": {
      "text/html": [
       "<div><iframe src=\"http://127.0.0.1:7860/\" width=\"100%\" height=\"500\" allow=\"autoplay; camera; microphone; clipboard-read; clipboard-write;\" frameborder=\"0\" allowfullscreen></iframe></div>"
      ],
      "text/plain": [
       "<IPython.core.display.HTML object>"
      ]
     },
     "metadata": {},
     "output_type": "display_data"
    },
    {
     "data": {
      "text/plain": []
     },
     "execution_count": 4,
     "metadata": {},
     "output_type": "execute_result"
    },
    {
     "name": "stderr",
     "output_type": "stream",
     "text": [
      "WARNING:chromadb.segment.impl.vector.local_persistent_hnsw:Number of requested results 20 is greater than number of elements in index 5, updating n_results = 5\n",
      "Traceback (most recent call last):\n",
      "  File \"/media/ahmad_ali/cache/miniconda3/envs/tw/lib/python3.10/site-packages/gradio/routes.py\", line 516, in predict\n",
      "    output = await route_utils.call_process_api(\n",
      "  File \"/media/ahmad_ali/cache/miniconda3/envs/tw/lib/python3.10/site-packages/gradio/route_utils.py\", line 219, in call_process_api\n",
      "    output = await app.get_blocks().process_api(\n",
      "  File \"/media/ahmad_ali/cache/miniconda3/envs/tw/lib/python3.10/site-packages/gradio/blocks.py\", line 1437, in process_api\n",
      "    result = await self.call_function(\n",
      "  File \"/media/ahmad_ali/cache/miniconda3/envs/tw/lib/python3.10/site-packages/gradio/blocks.py\", line 1107, in call_function\n",
      "    prediction = await fn(*processed_input)\n",
      "  File \"/media/ahmad_ali/cache/miniconda3/envs/tw/lib/python3.10/site-packages/gradio/utils.py\", line 625, in async_wrapper\n",
      "    response = await f(*args, **kwargs)\n",
      "  File \"/media/ahmad_ali/cache/miniconda3/envs/tw/lib/python3.10/site-packages/gradio/chat_interface.py\", line 417, in _submit_fn\n",
      "    response = await anyio.to_thread.run_sync(\n",
      "  File \"/media/ahmad_ali/cache/miniconda3/envs/tw/lib/python3.10/site-packages/anyio/to_thread.py\", line 33, in run_sync\n",
      "    return await get_async_backend().run_sync_in_worker_thread(\n",
      "  File \"/media/ahmad_ali/cache/miniconda3/envs/tw/lib/python3.10/site-packages/anyio/_backends/_asyncio.py\", line 2106, in run_sync_in_worker_thread\n",
      "    return await future\n",
      "  File \"/media/ahmad_ali/cache/miniconda3/envs/tw/lib/python3.10/site-packages/anyio/_backends/_asyncio.py\", line 833, in run\n",
      "    result = context.run(func, *args)\n",
      "  File \"/tmp/ipykernel_57859/2260642101.py\", line 3, in alternatingly_agree\n",
      "    return elonbot.reply_user(message)\n",
      "  File \"/home/ahmad_ali/Work/Practice/twitterpersona/twitter_persona/twitter_persona.py\", line 269, in reply_user\n",
      "    from base_prompt import base_prompt\n",
      "ModuleNotFoundError: No module named 'base_prompt'\n"
     ]
    }
   ],
   "source": [
    "\n",
    "\n",
    "#%%\n",
    "def alternatingly_agree(message, history):\n",
    "    return elonbot.reply_user(message)\n",
    "\n",
    "gr.ChatInterface(alternatingly_agree,\n",
    "                 undo_btn=None,\n",
    "                 retry_btn=None).launch()"
   ]
  },
  {
   "cell_type": "code",
   "execution_count": null,
   "metadata": {},
   "outputs": [],
   "source": []
  }
 ],
 "metadata": {
  "kernelspec": {
   "display_name": "tw",
   "language": "python",
   "name": "python3"
  },
  "language_info": {
   "codemirror_mode": {
    "name": "ipython",
    "version": 3
   },
   "file_extension": ".py",
   "mimetype": "text/x-python",
   "name": "python",
   "nbconvert_exporter": "python",
   "pygments_lexer": "ipython3",
   "version": "3.10.13"
  },
  "orig_nbformat": 4
 },
 "nbformat": 4,
 "nbformat_minor": 2
}
